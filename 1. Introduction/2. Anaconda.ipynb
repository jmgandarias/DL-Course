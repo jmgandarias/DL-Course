{
 "cells": [
  {
   "cell_type": "markdown",
   "metadata": {},
   "source": [
    "# Anaconda\n",
    "![](images/anaconda_logo.png)\n",
    "## Description\n",
    "\n",
    "Anaconda (https://www.continuum.io/what-is-anaconda) is a package and environment manager built specificaclly for data. Anaconda comes with *conda, Python*, and over 150 specific packages and their dependences. *conda* is a program that we will be using exclusively from the command line. Anaconda comes with *Numpy, Scipy* and *Scikit-learn* compiled with the *MKL library*, speeding up various math operations. \n",
    "\n",
    "Conda is also a virtual envirnment manager (similar to virtualenv and pyenv). Environments allow you to separate and isolate the packages you are using for different projects. It is very useful, for example when dealing with Python 2 and Python 3. You might be working with old code that doesn’t run in Python 3 and new code that doesn’t run in Python 2. Having both installed can lead to a lot of confusion and bugs. It’s much better to have separate environments.\n",
    "\n",
    "## Installing\n",
    "\n",
    "You can install Anaconda from (https://www.continuum.io/downloads). Anaconda install these three applications:\n",
    "- **Anaconda Nsvigator:** a GUI for managing yout environments and packages\n",
    "- **Anaconda Prompt:** a terminal where you can use the command line interface to manage your environments and packages\n",
    "- **Spyder:** an IDE geared toward scientific development\n",
    "\n",
    "After that is useful to avoid errors later to update the packages in the default environment. Open the **Anaconda Prompt** and run the following commands:\n",
    "\n",
    "- *conda upgrade conda*  \n",
    "- *conda upgrade --all*"
   ]
  },
  {
   "cell_type": "markdown",
   "metadata": {},
   "source": [
    "## Managing Packages\n",
    "\n",
    "Anaconda is already an environment, so we can install packages directly in it. \n",
    "\n",
    "##### Insalling packages\n",
    "\n",
    "- *conda install package_name*  (Example: conda install numpy)\n",
    "\n",
    "- *conda install numpy scipy pandas* (That will install these three packages)\n",
    "\n",
    "- *conda install scipy* (That will install scipy and all of its dependences, for example numpy will also be installed)\n",
    "\n",
    "##### Removing packages\n",
    "\n",
    "- *conda remove package_name* (Example: conda remove numpy)\n",
    "\n",
    "##### List of packages\n",
    "\n",
    "- *conda list* (That shows a list with the packages already installed in that environment)\n",
    "\n",
    "##### Searching packages\n",
    "\n",
    "- *conda search search_term* (For example if you don't know or don't remember the exact name of a certain package)\n",
    "\n"
   ]
  },
  {
   "cell_type": "markdown",
   "metadata": {},
   "source": [
    "## Managing Environments\n",
    "\n",
    "##### Creating envirnments\n",
    "\n",
    "- *conda create -n env_name list_of_packages* (Example: conda create -n Py2 python=2 numpy matplotlib)\n",
    "\n",
    "##### Entering an environment\n",
    "If you install a package into an environment, it will only be available for this environment when you are in it.\n",
    " - *source activate my_env* **(OSX/Linux)**\n",
    " - *activate my_env* **(Windows)**\n",
    " \n",
    "##### Leave an environment\n",
    " - *source deactivate* **(OSX/Linux)**\n",
    " - *deactivate* **(Windows)**"
   ]
  },
  {
   "cell_type": "markdown",
   "metadata": {},
   "source": [
    "## More environment actions\n",
    "\n",
    "##### Saving and load \n",
    "You can save the packages to a YAML (http://www.yaml.org/) file, so others can install all the packages used in your code with the correct versions  \n",
    "\n",
    "- *conda env export > environment.yaml*\n",
    "\n",
    "To create an environment from an environment file use:\n",
    "- *conda env create -f environment.yaml*\n",
    "\n",
    "##### Listing environments\n",
    "If you forget the environment name\n",
    "\n",
    "- conda env list\n",
    "\n",
    "\n",
    "##### Removing environments\n",
    "\n",
    "- conda env remove -n env_name"
   ]
  }
 ],
 "metadata": {
  "kernelspec": {
   "display_name": "Python [default]",
   "language": "python",
   "name": "python3"
  },
  "language_info": {
   "codemirror_mode": {
    "name": "ipython",
    "version": 3
   },
   "file_extension": ".py",
   "mimetype": "text/x-python",
   "name": "python",
   "nbconvert_exporter": "python",
   "pygments_lexer": "ipython3",
   "version": "3.6.2"
  }
 },
 "nbformat": 4,
 "nbformat_minor": 2
}
