{
 "cells": [
  {
   "cell_type": "markdown",
   "metadata": {},
   "source": [
    "# Applying Deep Learning\n",
    "\n",
    "## Style Transfer\n",
    "\n",
    "As an example of the kind of things you'll be building with deep learning models, here is a really fun project, fast style transfer (https://github.com/lengstrom/fast-style-transfer)  \n",
    "\n",
    "\n",
    " > conda create -n style-transfer python=3.5  \n",
    "activate style-transfer  \n",
    "pip install tensorflow  \n",
    "conda install scipy pillow  \n",
    "\n",
    "### Transferring styles\n",
    "\n",
    "1. Download the Zip archive from the fast-style-transfer repository and extract it. You can download it by clicking on the bright green button on the right.\n",
    "2. Download the Rain Princess checkpoint from here. Put it in the fast-style-transfer folder. A checkpoint file is a model that already has tuned parameters. By using this checkpoint file, we won't need to train the model and can get straight to applying it.\n",
    "3. Copy the image you want to style into the fast-style-transfer folder.\n",
    "4. Enter the Conda environment you created above, if you aren't still in it.\n",
    "5. In your terminal, navigate to the fast-style-transfer folder and enter\n",
    "\n",
    "> python evaluate.py --checkpoint ./rain-princess.ckpt --in-path path_to_input_file --out-path ./output_image.jpg  \n",
    "\n",
    "## Flappy Bird\n",
    "\n",
    "\n",
    "1. Install miniconda or anaconda if you have not already. You can follow our tutorial for help.\n",
    "2. Create an environment for flappybird\n",
    "    - Mac/Linux: conda create --name=flappybird python=2.7\n",
    "    - Windows: conda create --name=flappybird python=3.5\n",
    "3. Enter your conda environment\n",
    "    - Mac/Linux: source activate flappybird\n",
    "    - Windows: activate flappybird\n",
    "4. conda install -c menpo opencv3\n",
    "5. pip install pygame\n",
    "6. pip install tensorflow\n",
    "7. git clone https://github.com/yenchenlin/DeepLearningFlappyBird.git\n",
    "8. cd DeepLearningFlappyBird\n",
    "9. python deep_q_network.py\n",
    "\n"
   ]
  }
 ],
 "metadata": {
  "kernelspec": {
   "display_name": "Python [conda root]",
   "language": "python",
   "name": "conda-root-py"
  },
  "language_info": {
   "codemirror_mode": {
    "name": "ipython",
    "version": 3
   },
   "file_extension": ".py",
   "mimetype": "text/x-python",
   "name": "python",
   "nbconvert_exporter": "python",
   "pygments_lexer": "ipython3",
   "version": "3.6.2"
  }
 },
 "nbformat": 4,
 "nbformat_minor": 2
}
