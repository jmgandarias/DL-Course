{
 "cells": [
  {
   "cell_type": "markdown",
   "metadata": {},
   "source": [
    "# Program Structure\n",
    "\n",
    "## Introduction\n",
    "In this part, some tool needed for the course as *Anaconda* or *Jupyter* will be presented. Also a simple introduction about machine learning and linear regression is covered in this part.\n",
    "\n",
    "## Neural Networks (NNs)\n",
    "We will learn to build a simple NN from scratch using *Numpy*. This part covers the algortihms to train NN such as gradient descent and backpropagation.\n",
    "**Project 1:** Predicting bike ridership using a simple NN.\n",
    "\n",
    "## Convolutional Neural Networks (CNNs)\n",
    "CNNs have achieved state of the art results in computer vision. We will learn how to build CNNs in *TensorFlow*. We will also use CNNs to build an autoencoder, a network architecture for image compression and denoising. Then we will use a pretrained CNN (*VGGNet*) to classify images with the *Transfer learning* technique.\n",
    "**Project 2:** Image Classification.\n",
    "\n",
    "## Recurrent Neural Networks (RNNs)\n",
    "This type of architecture is well suited to data that forms sequences like text, music and time series data. Then we will implement the *Word2Vec* model (network that can learn about semantic relationships between words).\n",
    "**Project 3:** Generating new TV scripts from episodes of The Simpson's.\n",
    "**Project 4:** Training a RNN that can translate from English to French.\n",
    "\n",
    "## Generative Adversarial Networks (GANs)\n",
    "They are one of the newest architectures that can be used for generating images such as the *CycleGAN* project (https://github.com/junyanz/CycleGAN)\n",
    "**Project 5:** Using a DCGAN to generate completelely new images of human faces.\n",
    "\n",
    "## Additional Lessons\n",
    "We will learn about topics such as TensorBoard, training a NN to play computer games with reinforcement learning and so on. \n"
   ]
  },
  {
   "cell_type": "code",
   "execution_count": null,
   "metadata": {
    "collapsed": true
   },
   "outputs": [],
   "source": []
  }
 ],
 "metadata": {
  "kernelspec": {
   "display_name": "Python 3",
   "language": "python",
   "name": "python3"
  },
  "language_info": {
   "codemirror_mode": {
    "name": "ipython",
    "version": 3
   },
   "file_extension": ".py",
   "mimetype": "text/x-python",
   "name": "python",
   "nbconvert_exporter": "python",
   "pygments_lexer": "ipython3",
   "version": "3.5.4rc1"
  }
 },
 "nbformat": 4,
 "nbformat_minor": 2
}
